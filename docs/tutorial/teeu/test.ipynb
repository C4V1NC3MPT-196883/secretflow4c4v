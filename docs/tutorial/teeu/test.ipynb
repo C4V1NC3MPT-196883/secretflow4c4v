{
 "cells": [
  {
   "cell_type": "markdown",
   "id": "e632723c-4579-40ed-bae6-676f048fb510",
   "metadata": {},
   "source": [
    "# 为 TEEU 添加“标准化”预处理教程"
   ]
  },
  {
   "cell_type": "code",
   "execution_count": null,
   "id": "15bedd7a-cde6-48ed-be1f-98cca54f0e06",
   "metadata": {},
   "outputs": [],
   "source": [
    "import numpy as np\n",
    "\n",
    "def average(data):\n",
    "    return np.average(data, axis=1)\n",
    "\n",
    "alice = sf.PYU('alice')\n",
    "bob = sf.PYU('bob')\n",
    "\n",
    "from secretflow.device import TEEU\n",
    "\n",
    "# mrenclave can be omitted in simulation mode.\n",
    "teeu = TEEU('carol', mr_enclave='')\n",
    "\n",
    "a = alice(lambda: np.random.rand(4, 3))()\n",
    "b = bob(lambda: np.random.rand(4, 3))()\n",
    "\n",
    "# Transfer data to teeu.\n",
    "a_teeu = a.to(teeu, allow_funcs=average)\n",
    "b_teeu = b.to(teeu, allow_funcs=average)\n",
    "\n",
    "# TEEU runs average.\n",
    "avg_val = teeu(average)([a_teeu, b_teeu])\n",
    "print(sf.reveal(avg_val))\n",
    "\n",
    "a = sf.reveal(a)\n",
    "b = sf.reveal(b)\n",
    "np.testing.assert_equal(avg_val, average([a, b]) )"
   ]
  }
 ],
 "metadata": {
  "kernelspec": {
   "display_name": "Python 3 (ipykernel)",
   "language": "python",
   "name": "python3"
  },
  "language_info": {
   "codemirror_mode": {
    "name": "ipython",
    "version": 3
   },
   "file_extension": ".py",
   "mimetype": "text/x-python",
   "name": "python",
   "nbconvert_exporter": "python",
   "pygments_lexer": "ipython3",
   "version": "3.10.12"
  }
 },
 "nbformat": 4,
 "nbformat_minor": 5
}
